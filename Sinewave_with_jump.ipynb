{
 "cells": [
  {
   "cell_type": "markdown",
   "metadata": {},
   "source": [
    "# Testing indicator behavior \n",
    "## Sinewave signal with a shock"
   ]
  },
  {
   "cell_type": "code",
   "execution_count": 1,
   "metadata": {
    "collapsed": true
   },
   "outputs": [],
   "source": [
    "%matplotlib inline\n",
    "import matplotlib.pylab as pylab\n",
    "pylab.rcParams['figure.figsize'] = 14, 7"
   ]
  },
  {
   "cell_type": "code",
   "execution_count": 2,
   "metadata": {
    "collapsed": false
   },
   "outputs": [],
   "source": [
    "import numpy as np\n",
    "import pandas as pd\n",
    "\n",
    "import plotly.tools as tls\n",
    "import plotly.plotly as py\n",
    "import cufflinks as cf\n",
    "\n",
    "import elhers_indicators as ei\n",
    "import series_generator as sg\n",
    "from exponential_MA import EMA"
   ]
  },
  {
   "cell_type": "markdown",
   "metadata": {},
   "source": [
    "## Series generation"
   ]
  },
  {
   "cell_type": "code",
   "execution_count": 3,
   "metadata": {
    "collapsed": false
   },
   "outputs": [],
   "source": [
    "N = 100\n",
    "idx = np.arange(N)\n",
    "series = sg.sinewave_generator(N, 100, 2, 25)\n",
    "series = sg.add_jump(series, 20)"
   ]
  },
  {
   "cell_type": "code",
   "execution_count": 4,
   "metadata": {
    "collapsed": true
   },
   "outputs": [],
   "source": [
    "EMA_5 = EMA(series, 5)\n",
    "EMA_15 = EMA(series, 15)\n",
    "EMA_30 = EMA(series, 30)\n",
    "\n",
    "SS_5 = ei.super_smoother(series, 5)\n",
    "SS_15 = ei.super_smoother(series, 15)\n",
    "SS_30 = ei.super_smoother(series, 30)\n",
    "\n",
    "decycle_5 = ei.decycle(series, 5)\n",
    "decycle_15 = ei.decycle(series, 15)\n",
    "decycle_30 = ei.decycle(series, 30)\n",
    "\n",
    "IT_5 = ei.instantaneous_trend(series, 5)\n",
    "IT_15 = ei.instantaneous_trend(series, 15)\n",
    "IT_30 = ei.instantaneous_trend(series, 30)"
   ]
  },
  {
   "cell_type": "markdown",
   "metadata": {},
   "source": [
    "## Comparative different indicator same period."
   ]
  },
  {
   "cell_type": "code",
   "execution_count": 5,
   "metadata": {
    "collapsed": false
   },
   "outputs": [
    {
     "data": {
      "text/html": [
       "<iframe id=\"igraph\" scrolling=\"no\" style=\"border:none;\"seamless=\"seamless\" src=\"https://plot.ly/~jjdambrosio/162.embed\" height=\"525px\" width=\"100%\"></iframe>"
      ],
      "text/plain": [
       "<plotly.tools.PlotlyDisplay object>"
      ]
     },
     "execution_count": 5,
     "metadata": {},
     "output_type": "execute_result"
    }
   ],
   "source": [
    "df = pd.DataFrame(np.transpose(np.vstack((series, EMA_5, SS_5, decycle_5, IT_5))), index=idx,\n",
    "                  columns=['Series', 'EMA(5)', 'SuperSmoother(5)', 'Decycle(5)', 'InstantaneousTrend(5)'])\n",
    "df.iplot(kind='scatter', width=2, colorscale=\"dflt\", theme='ggplot', filename='ComparativeMA/sine_with_jump/period5')"
   ]
  },
  {
   "cell_type": "code",
   "execution_count": 6,
   "metadata": {
    "collapsed": false
   },
   "outputs": [
    {
     "data": {
      "text/html": [
       "<iframe id=\"igraph\" scrolling=\"no\" style=\"border:none;\"seamless=\"seamless\" src=\"https://plot.ly/~jjdambrosio/164.embed\" height=\"525px\" width=\"100%\"></iframe>"
      ],
      "text/plain": [
       "<plotly.tools.PlotlyDisplay object>"
      ]
     },
     "execution_count": 6,
     "metadata": {},
     "output_type": "execute_result"
    }
   ],
   "source": [
    "df = pd.DataFrame(np.transpose(np.vstack((series, EMA_15, SS_15, decycle_15, IT_15))), index=idx,\n",
    "                  columns=['Series', 'EMA(15)', 'SuperSmoother(15)', 'Decycle(15)', 'InstantaneousTrend(15)'])\n",
    "df.iplot(kind='scatter', width=2, colorscale=\"dflt\", theme='ggplot', filename='ComparativeMA/sine_with_jump/period15')"
   ]
  },
  {
   "cell_type": "code",
   "execution_count": 7,
   "metadata": {
    "collapsed": false
   },
   "outputs": [
    {
     "data": {
      "text/html": [
       "<iframe id=\"igraph\" scrolling=\"no\" style=\"border:none;\"seamless=\"seamless\" src=\"https://plot.ly/~jjdambrosio/166.embed\" height=\"525px\" width=\"100%\"></iframe>"
      ],
      "text/plain": [
       "<plotly.tools.PlotlyDisplay object>"
      ]
     },
     "execution_count": 7,
     "metadata": {},
     "output_type": "execute_result"
    }
   ],
   "source": [
    "df = pd.DataFrame(np.transpose(np.vstack((series, EMA_30, SS_30, decycle_30, IT_30))), index=idx,\n",
    "                  columns=['Series', 'EMA(30)', 'SuperSmoother(30)', 'Decycle(30)', 'InstantaneousTrend(30)'])\n",
    "df.iplot(kind='scatter', width=2, colorscale=\"dflt\", theme='ggplot', filename='ComparativeMA/sine_with_jump/period30')"
   ]
  },
  {
   "cell_type": "markdown",
   "metadata": {},
   "source": [
    "## Comparative same indicator different period."
   ]
  },
  {
   "cell_type": "code",
   "execution_count": 8,
   "metadata": {
    "collapsed": false
   },
   "outputs": [
    {
     "data": {
      "text/html": [
       "<iframe id=\"igraph\" scrolling=\"no\" style=\"border:none;\"seamless=\"seamless\" src=\"https://plot.ly/~jjdambrosio/168.embed\" height=\"525px\" width=\"100%\"></iframe>"
      ],
      "text/plain": [
       "<plotly.tools.PlotlyDisplay object>"
      ]
     },
     "execution_count": 8,
     "metadata": {},
     "output_type": "execute_result"
    }
   ],
   "source": [
    "df = pd.DataFrame(np.transpose(np.vstack((series, EMA_5, EMA_15, EMA_30))), index=idx,\n",
    "                  columns=['Series', 'EMA(5)', 'EMA(15)', 'EMA(30)'])\n",
    "df.iplot(kind='scatter', width=2, colorscale=\"dflt\", theme='ggplot', filename='ComparativeMA/sine_with_jump/EMA')"
   ]
  },
  {
   "cell_type": "code",
   "execution_count": 9,
   "metadata": {
    "collapsed": false
   },
   "outputs": [
    {
     "data": {
      "text/html": [
       "<iframe id=\"igraph\" scrolling=\"no\" style=\"border:none;\"seamless=\"seamless\" src=\"https://plot.ly/~jjdambrosio/170.embed\" height=\"525px\" width=\"100%\"></iframe>"
      ],
      "text/plain": [
       "<plotly.tools.PlotlyDisplay object>"
      ]
     },
     "execution_count": 9,
     "metadata": {},
     "output_type": "execute_result"
    }
   ],
   "source": [
    "df = pd.DataFrame(np.transpose(np.vstack((series, SS_5, SS_15, SS_30))), index=idx,\n",
    "                  columns=['Series', 'SuperSmoother(5)', 'SuperSmoother(15)', 'SuperSmoother(30)'])\n",
    "df.iplot(kind='scatter', width=2, colorscale=\"dflt\", theme='ggplot', filename='ComparativeMA/sine_with_jump/SS')"
   ]
  },
  {
   "cell_type": "code",
   "execution_count": 10,
   "metadata": {
    "collapsed": false
   },
   "outputs": [
    {
     "data": {
      "text/html": [
       "<iframe id=\"igraph\" scrolling=\"no\" style=\"border:none;\"seamless=\"seamless\" src=\"https://plot.ly/~jjdambrosio/172.embed\" height=\"525px\" width=\"100%\"></iframe>"
      ],
      "text/plain": [
       "<plotly.tools.PlotlyDisplay object>"
      ]
     },
     "execution_count": 10,
     "metadata": {},
     "output_type": "execute_result"
    }
   ],
   "source": [
    "df = pd.DataFrame(np.transpose(np.vstack((series, decycle_5, decycle_15, decycle_30))), index=idx,\n",
    "                  columns=['Series', 'Decycle(5)', 'Decycle(15)', 'Decycle(30)'])\n",
    "df.iplot(kind='scatter', width=2, colorscale=\"dflt\", theme='ggplot', filename='ComparativeMA/sine_with_jump/decycle')"
   ]
  },
  {
   "cell_type": "code",
   "execution_count": 11,
   "metadata": {
    "collapsed": false
   },
   "outputs": [
    {
     "data": {
      "text/html": [
       "<iframe id=\"igraph\" scrolling=\"no\" style=\"border:none;\"seamless=\"seamless\" src=\"https://plot.ly/~jjdambrosio/174.embed\" height=\"525px\" width=\"100%\"></iframe>"
      ],
      "text/plain": [
       "<plotly.tools.PlotlyDisplay object>"
      ]
     },
     "execution_count": 11,
     "metadata": {},
     "output_type": "execute_result"
    }
   ],
   "source": [
    "df = pd.DataFrame(np.transpose(np.vstack((series, IT_5, IT_15, IT_30))), index=idx,\n",
    "                  columns=['Series', 'InstantaneousTrend(5)', 'InstantaneousTrend(15)', 'InstantaneousTrend(30)'])\n",
    "df.iplot(kind='scatter', width=2, colorscale=\"dflt\", theme='ggplot', filename='ComparativeMA/sine_with_jump/IT')"
   ]
  }
 ],
 "metadata": {
  "kernelspec": {
   "display_name": "Python 2",
   "language": "python",
   "name": "python2"
  },
  "language_info": {
   "codemirror_mode": {
    "name": "ipython",
    "version": 2
   },
   "file_extension": ".py",
   "mimetype": "text/x-python",
   "name": "python",
   "nbconvert_exporter": "python",
   "pygments_lexer": "ipython2",
   "version": "2.7.10"
  }
 },
 "nbformat": 4,
 "nbformat_minor": 0
}
